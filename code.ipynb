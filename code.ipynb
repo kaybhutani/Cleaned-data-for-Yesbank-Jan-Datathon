{
 "cells": [
  {
   "cell_type": "code",
   "execution_count": 1,
   "metadata": {},
   "outputs": [],
   "source": [
    "import pandas as pd"
   ]
  },
  {
   "cell_type": "code",
   "execution_count": 2,
   "metadata": {},
   "outputs": [],
   "source": [
    "data=pd.read_excel(\"Datathon Campus Edition - Dataset cut (copy).xlsx\")"
   ]
  },
  {
   "cell_type": "code",
   "execution_count": 14,
   "metadata": {},
   "outputs": [],
   "source": [
    "data.columns=['combined col']\n",
    "data.head()\n",
    "data2=data.copy()"
   ]
  },
  {
   "cell_type": "code",
   "execution_count": 24,
   "metadata": {},
   "outputs": [
    {
     "data": {
      "text/plain": [
       "9"
      ]
     },
     "execution_count": 24,
     "metadata": {},
     "output_type": "execute_result"
    }
   ],
   "source": [
    "fil=data['combined col'].str.split('|')\n",
    "len(fil.head()[0])"
   ]
  },
  {
   "cell_type": "code",
   "execution_count": 26,
   "metadata": {},
   "outputs": [],
   "source": [
    "sno=[]\n",
    "x=[]\n",
    "loc1=[]\n",
    "loc2=[]\n",
    "code=[]\n",
    "y=[]\n",
    "city=[]\n",
    "state=[]\n",
    "postal=[]\n",
    "\n",
    "\n",
    "for i in range(0,100):\n",
    "    sno.append(fil[i][0])\n",
    "    x.append(fil[i][1])\n",
    "    loc1.append(fil[i][2])\n",
    "    loc2.append(fil[i][3])\n",
    "    code.append(fil[i][4])\n",
    "    y.append(fil[i][5])\n",
    "    city.append(fil[i][6])\n",
    "    state.append(fil[i][7])\n",
    "    postal.append(fil[i][8])"
   ]
  },
  {
   "cell_type": "code",
   "execution_count": 31,
   "metadata": {},
   "outputs": [],
   "source": [
    "\n",
    "#change column names here for data frame\n",
    "\n",
    "\n",
    "dic={\n",
    "    'x':x,\n",
    "    'loc1':loc1,\n",
    "    'loc2':loc2,\n",
    "    'code':code,\n",
    "    'y':y,\n",
    "    'city':city,\n",
    "    'state':state,\n",
    "    'postal':postal\n",
    "    \n",
    "}"
   ]
  },
  {
   "cell_type": "code",
   "execution_count": 33,
   "metadata": {},
   "outputs": [],
   "source": [
    "data2=pd.DataFrame(dic,index=sno)"
   ]
  },
  {
   "cell_type": "code",
   "execution_count": 36,
   "metadata": {},
   "outputs": [
    {
     "data": {
      "text/html": [
       "<div>\n",
       "<style scoped>\n",
       "    .dataframe tbody tr th:only-of-type {\n",
       "        vertical-align: middle;\n",
       "    }\n",
       "\n",
       "    .dataframe tbody tr th {\n",
       "        vertical-align: top;\n",
       "    }\n",
       "\n",
       "    .dataframe thead th {\n",
       "        text-align: right;\n",
       "    }\n",
       "</style>\n",
       "<table border=\"1\" class=\"dataframe\">\n",
       "  <thead>\n",
       "    <tr style=\"text-align: right;\">\n",
       "      <th></th>\n",
       "      <th>combined col</th>\n",
       "    </tr>\n",
       "  </thead>\n",
       "  <tbody>\n",
       "    <tr>\n",
       "      <th>0</th>\n",
       "      <td>1||JAMBI|INDONESIA|36126||CHENNAI|TAMIL NADU|6...</td>\n",
       "    </tr>\n",
       "    <tr>\n",
       "      <th>1</th>\n",
       "      <td>2|INJAMBAKKAM|CHENNAI|TAMIL NADU|600115||LONDO...</td>\n",
       "    </tr>\n",
       "    <tr>\n",
       "      <th>2</th>\n",
       "      <td>3|ROODEPOORT|JOHANNESBURG|GAUTENG|2169|MANDIR ...</td>\n",
       "    </tr>\n",
       "    <tr>\n",
       "      <th>3</th>\n",
       "      <td>4||DUBAI|DUBAI|18582||BARODA|GUJARAT|390007</td>\n",
       "    </tr>\n",
       "    <tr>\n",
       "      <th>4</th>\n",
       "      <td>5||SIRSA|HARYANA|125055||SIRSA|HARYANA|125055</td>\n",
       "    </tr>\n",
       "  </tbody>\n",
       "</table>\n",
       "</div>"
      ],
      "text/plain": [
       "                                        combined col\n",
       "0  1||JAMBI|INDONESIA|36126||CHENNAI|TAMIL NADU|6...\n",
       "1  2|INJAMBAKKAM|CHENNAI|TAMIL NADU|600115||LONDO...\n",
       "2  3|ROODEPOORT|JOHANNESBURG|GAUTENG|2169|MANDIR ...\n",
       "3        4||DUBAI|DUBAI|18582||BARODA|GUJARAT|390007\n",
       "4      5||SIRSA|HARYANA|125055||SIRSA|HARYANA|125055"
      ]
     },
     "execution_count": 36,
     "metadata": {},
     "output_type": "execute_result"
    }
   ],
   "source": [
    "data2.head()"
   ]
  },
  {
   "cell_type": "code",
   "execution_count": 40,
   "metadata": {},
   "outputs": [],
   "source": [
    "data2.to_csv(\"Cleaned data\")"
   ]
  },
  {
   "cell_type": "code",
   "execution_count": null,
   "metadata": {},
   "outputs": [],
   "source": []
  }
 ],
 "metadata": {
  "kernelspec": {
   "display_name": "Python 3",
   "language": "python",
   "name": "python3"
  },
  "language_info": {
   "codemirror_mode": {
    "name": "ipython",
    "version": 3
   },
   "file_extension": ".py",
   "mimetype": "text/x-python",
   "name": "python",
   "nbconvert_exporter": "python",
   "pygments_lexer": "ipython3",
   "version": "3.6.5"
  }
 },
 "nbformat": 4,
 "nbformat_minor": 2
}
