{
 "cells": [
  {
   "cell_type": "code",
   "execution_count": 1,
   "metadata": {},
   "outputs": [],
   "source": [
    "import pandas as pd"
   ]
  },
  {
   "cell_type": "code",
   "execution_count": 2,
   "metadata": {},
   "outputs": [],
   "source": [
    "data=pd.read_excel(\"Datathon Campus Edition - Dataset cut (copy).xlsx\")"
   ]
  },
  {
   "cell_type": "code",
   "execution_count": 14,
   "metadata": {},
   "outputs": [],
   "source": [
    "data.columns=['combined col']\n",
    "data.head()\n",
    "data2=data.copy()"
   ]
  },
  {
   "cell_type": "code",
   "execution_count": 24,
   "metadata": {},
   "outputs": [
    {
     "data": {
      "text/plain": [
       "9"
      ]
     },
     "execution_count": 24,
     "metadata": {},
     "output_type": "execute_result"
    }
   ],
   "source": [
    "fil=data['combined col'].str.split('|')\n",
    "len(fil.head()[0])"
   ]
  },
  {
   "cell_type": "code",
   "execution_count": 26,
   "metadata": {},
   "outputs": [],
   "source": [
    "sno=[]\n",
    "x=[]\n",
    "loc1=[]\n",
    "loc2=[]\n",
    "code=[]\n",
    "y=[]\n",
    "city=[]\n",
    "state=[]\n",
    "postal=[]\n",
    "\n",
    "\n",
    "for i in range(0,100):\n",
    "    sno.append(fil[i][0])\n",
    "    x.append(fil[i][1])\n",
    "    loc1.append(fil[i][2])\n",
    "    loc2.append(fil[i][3])\n",
    "    code.append(fil[i][4])\n",
    "    y.append(fil[i][5])\n",
    "    city.append(fil[i][6])\n",
    "    state.append(fil[i][7])\n",
    "    postal.append(fil[i][8])"
   ]
  },
  {
   "cell_type": "code",
   "execution_count": null,
   "metadata": {},
   "outputs": [],
   "source": [
    "{\n",
    "    'sno':sno,\n",
    "    'x':x,\n",
    "    'loc1':loc1,\n",
    "    'loc2':loc2,\n",
    "    'code':code,\n",
    "    'y':y,\n",
    "    'city':city,\n",
    "    'state'\n",
    "    \n",
    "}"
   ]
  }
 ],
 "metadata": {
  "kernelspec": {
   "display_name": "Python 3",
   "language": "python",
   "name": "python3"
  },
  "language_info": {
   "codemirror_mode": {
    "name": "ipython",
    "version": 3
   },
   "file_extension": ".py",
   "mimetype": "text/x-python",
   "name": "python",
   "nbconvert_exporter": "python",
   "pygments_lexer": "ipython3",
   "version": "3.6.5"
  }
 },
 "nbformat": 4,
 "nbformat_minor": 2
}
